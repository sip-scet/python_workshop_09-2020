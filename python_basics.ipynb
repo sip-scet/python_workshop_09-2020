{
  "nbformat": 4,
  "nbformat_minor": 0,
  "metadata": {
    "colab": {
      "name": "python_basics.ipynb",
      "provenance": [],
      "collapsed_sections": [],
      "include_colab_link": true
    },
    "kernelspec": {
      "name": "python3",
      "display_name": "Python 3"
    }
  },
  "cells": [
    {
      "cell_type": "markdown",
      "metadata": {
        "id": "view-in-github",
        "colab_type": "text"
      },
      "source": [
        "<a href=\"https://colab.research.google.com/github/sip-scet/python_workshop_09_2020/blob/master/python_basics.ipynb\" target=\"_parent\"><img src=\"https://colab.research.google.com/assets/colab-badge.svg\" alt=\"Open In Colab\"/></a>"
      ]
    },
    {
      "cell_type": "markdown",
      "metadata": {
        "id": "hrdxQsQOpt5H",
        "colab_type": "text"
      },
      "source": [
        "PYTHON is know for it's ease of use.\n",
        "Now the first ever code we write while learning any new programming language is is **Hello World**.\n",
        "\n",
        "> Python code for \"Hello World\" can be written as:\n",
        "\n",
        "\n",
        "\n",
        "\n",
        "\n",
        "\n",
        "\n",
        "\n"
      ]
    },
    {
      "cell_type": "code",
      "metadata": {
        "id": "wbFax4FQpYlL",
        "colab_type": "code",
        "colab": {}
      },
      "source": [
        "print('Hello World')"
      ],
      "execution_count": null,
      "outputs": []
    },
    {
      "cell_type": "markdown",
      "metadata": {
        "id": "KESji-XUsjMt",
        "colab_type": "text"
      },
      "source": [
        "Now,one of the important part of any code is a **Variable**.\n",
        "\n",
        "\n",
        "> Variables are containers for storing data values.\n",
        "\n",
        "\n",
        "> The \"list_data\" in the below given code is variable in which the list is stored.\n",
        "\n",
        "\n",
        "> We can print the list by using the variable name.\n",
        "\n",
        "\n",
        "\n",
        "\n",
        "\n",
        "\n",
        "\n"
      ]
    },
    {
      "cell_type": "code",
      "metadata": {
        "id": "Bn82FFp6sBgS",
        "colab_type": "code",
        "colab": {}
      },
      "source": [
        "list_data = [1,2,3,4]\n",
        "print(list_data)"
      ],
      "execution_count": null,
      "outputs": []
    },
    {
      "cell_type": "markdown",
      "metadata": {
        "id": "aJ-QzTNlvkZO",
        "colab_type": "text"
      },
      "source": [
        "**DATA TYPES** in python:\n",
        "\n",
        "*   int\n",
        "*   float\n",
        "*   str\n",
        "*   bool\n",
        "*   list\n",
        "*   tuple\n",
        "*   dict\n",
        "\n",
        "To check what type of a given data is, we can use the given below code. \n",
        "\n",
        "\n",
        "\n",
        "\n",
        "\n",
        "\n",
        "\n",
        "\n",
        "\n",
        "\n",
        "\n",
        "\n",
        "\n",
        "\n",
        "\n"
      ]
    },
    {
      "cell_type": "code",
      "metadata": {
        "id": "DttR_2I-vpJX",
        "colab_type": "code",
        "colab": {}
      },
      "source": [
        "a,b = 1, 5.0\n",
        "print(type(a))\n",
        "print(type(b))"
      ],
      "execution_count": null,
      "outputs": []
    },
    {
      "cell_type": "markdown",
      "metadata": {
        "id": "K5cgdYCZuPK2",
        "colab_type": "text"
      },
      "source": [
        "Now, we'll perfome some **Arithmetic operation** and see the use case for variables in code."
      ]
    },
    {
      "cell_type": "code",
      "metadata": {
        "id": "C9q9ffj9u5y1",
        "colab_type": "code",
        "colab": {}
      },
      "source": [
        "a = 5\n",
        "b = 10\n",
        "sum_output = print(a+b)\n",
        "sub_output = print(a-b)\n",
        "mul_output = print(a*b)\n",
        "div_output = print(a/b)\n",
        "mod_output = print(a%b)\n"
      ],
      "execution_count": null,
      "outputs": []
    },
    {
      "cell_type": "markdown",
      "metadata": {
        "id": "Yvis8A06yimT",
        "colab_type": "text"
      },
      "source": [
        "**Logical Operators**\n",
        "\n",
        "\n",
        "*   and\n",
        "*   or\n",
        "*   not\n",
        "\n",
        "\n"
      ]
    },
    {
      "cell_type": "code",
      "metadata": {
        "id": "tMZlk2zrzYe6",
        "colab_type": "code",
        "colab": {}
      },
      "source": [
        "a,b = True, False\n",
        "print(a and b)\n",
        "print(a or b)\n",
        "print(not a)"
      ],
      "execution_count": null,
      "outputs": []
    },
    {
      "cell_type": "markdown",
      "metadata": {
        "id": "RzjseML_1cLo",
        "colab_type": "text"
      },
      "source": [
        "**Lists**:\n",
        "List is a collection of data which is ordered and changeable. Allows duplicate \n",
        "\n",
        "*  List is a collection of data which is ordered and changeable\n",
        "*  Allows duplicate members.\n",
        "*  list can we made by using [ ] brackets.\n",
        " \n",
        "\n"
      ]
    },
    {
      "cell_type": "code",
      "metadata": {
        "id": "YTK3KhU82iQj",
        "colab_type": "code",
        "colab": {
          "base_uri": "https://localhost:8080/",
          "height": 50
        },
        "outputId": "5e819b9c-a411-4a0e-e283-22cc4dbe2efd"
      },
      "source": [
        "thislist = [\"apple\", \"banana\", \"cherry\"]\n",
        "print(thislist)\n",
        "print(len(thislist)) #used to know the lenght of the list.\n"
      ],
      "execution_count": null,
      "outputs": [
        {
          "output_type": "stream",
          "text": [
            "['apple', 'banana', 'cherry']\n",
            "3\n"
          ],
          "name": "stdout"
        }
      ]
    },
    {
      "cell_type": "markdown",
      "metadata": {
        "id": "OxB6TSHP3bqU",
        "colab_type": "text"
      },
      "source": [
        "Some methods used to modify lists are:"
      ]
    },
    {
      "cell_type": "code",
      "metadata": {
        "id": "QhPKwgX73hFe",
        "colab_type": "code",
        "colab": {}
      },
      "source": [
        "thislist.append(\"mango\")\n",
        "print(thislist) #To add an item to the end of the list\n",
        "thislist.remove(\"apple\")\n",
        "print(thislist)\n",
        "thislist.pop() #The pop() method removes the specified index, (or the last item if index is not specified)\n",
        "print(thislist)"
      ],
      "execution_count": null,
      "outputs": []
    },
    {
      "cell_type": "markdown",
      "metadata": {
        "id": "CZDieZUm4mFX",
        "colab_type": "text"
      },
      "source": [
        "List Indexing"
      ]
    },
    {
      "cell_type": "code",
      "metadata": {
        "id": "qNMtV3et40t1",
        "colab_type": "code",
        "colab": {}
      },
      "source": [
        "mylist = [0,1,2,3,4,5]\n",
        "#index always starts with 0\n",
        "print(mylist[0])\n",
        "print(mylist[1])\n",
        "print(mylist[2])"
      ],
      "execution_count": null,
      "outputs": []
    },
    {
      "cell_type": "markdown",
      "metadata": {
        "id": "LnCqvjjI5iuQ",
        "colab_type": "text"
      },
      "source": [
        "List Slicing"
      ]
    },
    {
      "cell_type": "code",
      "metadata": {
        "id": "AXxbIApk6LeH",
        "colab_type": "code",
        "colab": {}
      },
      "source": [
        "#list slicing can be used to get items stored in lists in a particular range.\n",
        "#syntax for list slicing list_name[start:stop:step over]\n",
        "print(mylist[0:4]) \n",
        "#the list will start at index 0, and stop at item 4\n",
        "#the item at 4th index will not be included\n",
        "print(mylist[0:]) #these will print the whole list\n",
        "print(mylist[0::2]) #starting of the index will be 0 till last item,but the step over will be by 2 places"
      ],
      "execution_count": null,
      "outputs": []
    },
    {
      "cell_type": "markdown",
      "metadata": {
        "id": "TRcN_geR7wAl",
        "colab_type": "text"
      },
      "source": [
        "**Conditional Statements**\n",
        "*   if\n",
        "*   elif\n",
        "*   else\n",
        "\n",
        "\n"
      ]
    },
    {
      "cell_type": "code",
      "metadata": {
        "id": "lBKJidqH8Spo",
        "colab_type": "code",
        "colab": {
          "base_uri": "https://localhost:8080/",
          "height": 34
        },
        "outputId": "2c1ed212-59a3-4b91-ea88-2e392c6fb186"
      },
      "source": [
        "a, b = 10, 8\n",
        "if a > b:\n",
        "  print('a is greater')\n",
        "elif b > a:\n",
        "  print('b is greater')\n",
        "else:\n",
        "  print('both are equal')"
      ],
      "execution_count": null,
      "outputs": [
        {
          "output_type": "stream",
          "text": [
            "a is greater\n"
          ],
          "name": "stdout"
        }
      ]
    },
    {
      "cell_type": "markdown",
      "metadata": {
        "id": "F_4N8PN58b-L",
        "colab_type": "text"
      },
      "source": [
        "**Loops in Python**\n",
        "1.   for loop: A for loop is used for iterating over a sequence (that is either a list, a tuple, a dictionary, a set, or a string).\n",
        "2.   while loop:With the while loop we can execute a set of statements as long as a condition is true.\n",
        "\n",
        "The purpose of loops is to repeat the same, or similar, code a number of times.  This number of times could be specified to a certain number, or the number of times could be dictated by a certain condition being met."
      ]
    },
    {
      "cell_type": "code",
      "metadata": {
        "id": "q_c8e0f99CwJ",
        "colab_type": "code",
        "colab": {}
      },
      "source": [
        "#for loop\n",
        "fruits = [\"apple\", \"banana\", \"cherry\"]\n",
        "for x in fruits:\n",
        "  print(x)\n",
        "#whie loop\n",
        "i = 1\n",
        "while i < 6:\n",
        "  print(i)\n",
        "  i += 1"
      ],
      "execution_count": null,
      "outputs": []
    },
    {
      "cell_type": "code",
      "metadata": {
        "id": "68OrGNjw9WUK",
        "colab_type": "code",
        "colab": {}
      },
      "source": [
        "#Program to reverse a string\n",
        "mystr = \"python\"\n",
        "print(mystr[::-1])"
      ],
      "execution_count": null,
      "outputs": []
    }
  ]
}